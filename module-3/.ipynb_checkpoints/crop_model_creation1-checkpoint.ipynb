{
 "cells": [
  {
   "cell_type": "code",
   "execution_count": 3,
   "id": "83ed3d98",
   "metadata": {},
   "outputs": [],
   "source": [
    "import numpy as np\n",
    "import pandas as pd \n",
    "import matplotlib.pyplot as plt\n",
    "import seaborn as sns\n",
    "import warnings\n",
    "warnings.filterwarnings('ignore')\n",
    "from sklearn.metrics import confusion_matrix\n",
    "from sklearn.metrics import accuracy_score"
   ]
  },
  {
   "cell_type": "code",
   "execution_count": 4,
   "id": "778b8f2d",
   "metadata": {},
   "outputs": [],
   "source": [
    "dataset = pd.read_csv('./dataset/Dataset.csv')"
   ]
  },
  {
   "cell_type": "code",
   "execution_count": 5,
   "id": "c22bf8fc",
   "metadata": {},
   "outputs": [
    {
     "data": {
      "text/html": [
       "<div>\n",
       "<style scoped>\n",
       "    .dataframe tbody tr th:only-of-type {\n",
       "        vertical-align: middle;\n",
       "    }\n",
       "\n",
       "    .dataframe tbody tr th {\n",
       "        vertical-align: top;\n",
       "    }\n",
       "\n",
       "    .dataframe thead th {\n",
       "        text-align: right;\n",
       "    }\n",
       "</style>\n",
       "<table border=\"1\" class=\"dataframe\">\n",
       "  <thead>\n",
       "    <tr style=\"text-align: right;\">\n",
       "      <th></th>\n",
       "      <th>Location</th>\n",
       "      <th>temperature</th>\n",
       "      <th>humidity</th>\n",
       "      <th>ph</th>\n",
       "      <th>rainfall</th>\n",
       "      <th>label</th>\n",
       "      <th>price</th>\n",
       "      <th>Price_Date</th>\n",
       "    </tr>\n",
       "  </thead>\n",
       "  <tbody>\n",
       "    <tr>\n",
       "      <th>0</th>\n",
       "      <td>Yercaud</td>\n",
       "      <td>20.879744</td>\n",
       "      <td>82.002744</td>\n",
       "      <td>6.502985</td>\n",
       "      <td>202.935536</td>\n",
       "      <td>rice</td>\n",
       "      <td>210</td>\n",
       "      <td>30-Apr-11</td>\n",
       "    </tr>\n",
       "    <tr>\n",
       "      <th>1</th>\n",
       "      <td>Vriddhachalam</td>\n",
       "      <td>21.770462</td>\n",
       "      <td>80.319644</td>\n",
       "      <td>7.038096</td>\n",
       "      <td>226.655537</td>\n",
       "      <td>rice</td>\n",
       "      <td>45</td>\n",
       "      <td>01-May-11</td>\n",
       "    </tr>\n",
       "    <tr>\n",
       "      <th>2</th>\n",
       "      <td>Virugambakkam</td>\n",
       "      <td>23.004459</td>\n",
       "      <td>82.320763</td>\n",
       "      <td>7.840207</td>\n",
       "      <td>263.964248</td>\n",
       "      <td>rice</td>\n",
       "      <td>70</td>\n",
       "      <td>02-May-11</td>\n",
       "    </tr>\n",
       "    <tr>\n",
       "      <th>3</th>\n",
       "      <td>Virudhunagar</td>\n",
       "      <td>26.491096</td>\n",
       "      <td>80.158363</td>\n",
       "      <td>6.980401</td>\n",
       "      <td>242.864034</td>\n",
       "      <td>rice</td>\n",
       "      <td>18</td>\n",
       "      <td>03-May-11</td>\n",
       "    </tr>\n",
       "    <tr>\n",
       "      <th>4</th>\n",
       "      <td>Viralimalai</td>\n",
       "      <td>20.130175</td>\n",
       "      <td>81.604873</td>\n",
       "      <td>7.628473</td>\n",
       "      <td>262.717340</td>\n",
       "      <td>rice</td>\n",
       "      <td>37</td>\n",
       "      <td>04-May-11</td>\n",
       "    </tr>\n",
       "  </tbody>\n",
       "</table>\n",
       "</div>"
      ],
      "text/plain": [
       "        Location  temperature   humidity        ph    rainfall label  price  \\\n",
       "0        Yercaud    20.879744  82.002744  6.502985  202.935536  rice    210   \n",
       "1  Vriddhachalam    21.770462  80.319644  7.038096  226.655537  rice     45   \n",
       "2  Virugambakkam    23.004459  82.320763  7.840207  263.964248  rice     70   \n",
       "3   Virudhunagar    26.491096  80.158363  6.980401  242.864034  rice     18   \n",
       "4    Viralimalai    20.130175  81.604873  7.628473  262.717340  rice     37   \n",
       "\n",
       "  Price_Date  \n",
       "0  30-Apr-11  \n",
       "1  01-May-11  \n",
       "2  02-May-11  \n",
       "3  03-May-11  \n",
       "4  04-May-11  "
      ]
     },
     "execution_count": 5,
     "metadata": {},
     "output_type": "execute_result"
    }
   ],
   "source": [
    "dataset.head()"
   ]
  },
  {
   "cell_type": "code",
   "execution_count": 6,
   "id": "c0c73729",
   "metadata": {},
   "outputs": [
    {
     "data": {
      "text/plain": [
       "pandas.core.frame.DataFrame"
      ]
     },
     "execution_count": 6,
     "metadata": {},
     "output_type": "execute_result"
    }
   ],
   "source": [
    "type(dataset)"
   ]
  },
  {
   "cell_type": "code",
   "execution_count": 7,
   "id": "de709fdb",
   "metadata": {},
   "outputs": [
    {
     "data": {
      "text/plain": [
       "(3100, 8)"
      ]
     },
     "execution_count": 7,
     "metadata": {},
     "output_type": "execute_result"
    }
   ],
   "source": [
    "dataset.shape"
   ]
  },
  {
   "cell_type": "code",
   "execution_count": 8,
   "id": "162e7ff0",
   "metadata": {},
   "outputs": [
    {
     "name": "stdout",
     "output_type": "stream",
     "text": [
      "<class 'pandas.core.frame.DataFrame'>\n",
      "RangeIndex: 3100 entries, 0 to 3099\n",
      "Data columns (total 8 columns):\n",
      " #   Column       Non-Null Count  Dtype  \n",
      "---  ------       --------------  -----  \n",
      " 0   Location     3100 non-null   object \n",
      " 1   temperature  3100 non-null   float64\n",
      " 2   humidity     3100 non-null   float64\n",
      " 3   ph           3100 non-null   float64\n",
      " 4   rainfall     3100 non-null   float64\n",
      " 5   label        3100 non-null   object \n",
      " 6   price        3100 non-null   int64  \n",
      " 7   Price_Date   3100 non-null   object \n",
      "dtypes: float64(4), int64(1), object(3)\n",
      "memory usage: 193.9+ KB\n"
     ]
    }
   ],
   "source": [
    "dataset.info()"
   ]
  },
  {
   "cell_type": "code",
   "execution_count": 9,
   "id": "69bca9ee",
   "metadata": {},
   "outputs": [
    {
     "data": {
      "text/html": [
       "<div>\n",
       "<style scoped>\n",
       "    .dataframe tbody tr th:only-of-type {\n",
       "        vertical-align: middle;\n",
       "    }\n",
       "\n",
       "    .dataframe tbody tr th {\n",
       "        vertical-align: top;\n",
       "    }\n",
       "\n",
       "    .dataframe thead th {\n",
       "        text-align: right;\n",
       "    }\n",
       "</style>\n",
       "<table border=\"1\" class=\"dataframe\">\n",
       "  <thead>\n",
       "    <tr style=\"text-align: right;\">\n",
       "      <th></th>\n",
       "      <th>count</th>\n",
       "      <th>mean</th>\n",
       "      <th>std</th>\n",
       "      <th>min</th>\n",
       "      <th>25%</th>\n",
       "      <th>50%</th>\n",
       "      <th>75%</th>\n",
       "      <th>max</th>\n",
       "    </tr>\n",
       "  </thead>\n",
       "  <tbody>\n",
       "    <tr>\n",
       "      <th>temperature</th>\n",
       "      <td>3100.0</td>\n",
       "      <td>27.108466</td>\n",
       "      <td>7.566308</td>\n",
       "      <td>8.825675</td>\n",
       "      <td>22.810495</td>\n",
       "      <td>26.102848</td>\n",
       "      <td>29.365644</td>\n",
       "      <td>54.986760</td>\n",
       "    </tr>\n",
       "    <tr>\n",
       "      <th>humidity</th>\n",
       "      <td>3100.0</td>\n",
       "      <td>66.005312</td>\n",
       "      <td>24.007713</td>\n",
       "      <td>10.034048</td>\n",
       "      <td>55.244920</td>\n",
       "      <td>68.980529</td>\n",
       "      <td>84.446524</td>\n",
       "      <td>99.981876</td>\n",
       "    </tr>\n",
       "    <tr>\n",
       "      <th>ph</th>\n",
       "      <td>3100.0</td>\n",
       "      <td>6.368913</td>\n",
       "      <td>0.809477</td>\n",
       "      <td>3.504752</td>\n",
       "      <td>5.895343</td>\n",
       "      <td>6.342518</td>\n",
       "      <td>6.841616</td>\n",
       "      <td>9.935091</td>\n",
       "    </tr>\n",
       "    <tr>\n",
       "      <th>rainfall</th>\n",
       "      <td>3100.0</td>\n",
       "      <td>110.213031</td>\n",
       "      <td>64.048562</td>\n",
       "      <td>20.211267</td>\n",
       "      <td>64.909095</td>\n",
       "      <td>97.057093</td>\n",
       "      <td>141.210784</td>\n",
       "      <td>397.315380</td>\n",
       "    </tr>\n",
       "    <tr>\n",
       "      <th>price</th>\n",
       "      <td>3100.0</td>\n",
       "      <td>645.275161</td>\n",
       "      <td>478.680867</td>\n",
       "      <td>1.000000</td>\n",
       "      <td>111.000000</td>\n",
       "      <td>679.000000</td>\n",
       "      <td>1036.250000</td>\n",
       "      <td>1921.000000</td>\n",
       "    </tr>\n",
       "  </tbody>\n",
       "</table>\n",
       "</div>"
      ],
      "text/plain": [
       "              count        mean         std        min         25%  \\\n",
       "temperature  3100.0   27.108466    7.566308   8.825675   22.810495   \n",
       "humidity     3100.0   66.005312   24.007713  10.034048   55.244920   \n",
       "ph           3100.0    6.368913    0.809477   3.504752    5.895343   \n",
       "rainfall     3100.0  110.213031   64.048562  20.211267   64.909095   \n",
       "price        3100.0  645.275161  478.680867   1.000000  111.000000   \n",
       "\n",
       "                    50%          75%          max  \n",
       "temperature   26.102848    29.365644    54.986760  \n",
       "humidity      68.980529    84.446524    99.981876  \n",
       "ph             6.342518     6.841616     9.935091  \n",
       "rainfall      97.057093   141.210784   397.315380  \n",
       "price        679.000000  1036.250000  1921.000000  "
      ]
     },
     "execution_count": 9,
     "metadata": {},
     "output_type": "execute_result"
    }
   ],
   "source": [
    "dataset.describe().T"
   ]
  },
  {
   "cell_type": "code",
   "execution_count": 10,
   "id": "87b882fe",
   "metadata": {},
   "outputs": [
    {
     "data": {
      "text/plain": [
       "Location       0\n",
       "temperature    0\n",
       "humidity       0\n",
       "ph             0\n",
       "rainfall       0\n",
       "label          0\n",
       "price          0\n",
       "Price_Date     0\n",
       "dtype: int64"
      ]
     },
     "execution_count": 10,
     "metadata": {},
     "output_type": "execute_result"
    }
   ],
   "source": [
    "dataset.isnull().sum()"
   ]
  },
  {
   "cell_type": "code",
   "execution_count": 11,
   "id": "fae4194a",
   "metadata": {},
   "outputs": [],
   "source": [
    "from sklearn.preprocessing import LabelEncoder\n",
    "labelencoder = LabelEncoder()"
   ]
  },
  {
   "cell_type": "code",
   "execution_count": 12,
   "id": "ff09810f",
   "metadata": {},
   "outputs": [
    {
     "data": {
      "text/html": [
       "<div>\n",
       "<style scoped>\n",
       "    .dataframe tbody tr th:only-of-type {\n",
       "        vertical-align: middle;\n",
       "    }\n",
       "\n",
       "    .dataframe tbody tr th {\n",
       "        vertical-align: top;\n",
       "    }\n",
       "\n",
       "    .dataframe thead th {\n",
       "        text-align: right;\n",
       "    }\n",
       "</style>\n",
       "<table border=\"1\" class=\"dataframe\">\n",
       "  <thead>\n",
       "    <tr style=\"text-align: right;\">\n",
       "      <th></th>\n",
       "      <th>Location</th>\n",
       "      <th>temperature</th>\n",
       "      <th>humidity</th>\n",
       "      <th>ph</th>\n",
       "      <th>rainfall</th>\n",
       "      <th>label</th>\n",
       "      <th>price</th>\n",
       "      <th>Price_Date</th>\n",
       "      <th>class</th>\n",
       "    </tr>\n",
       "  </thead>\n",
       "  <tbody>\n",
       "    <tr>\n",
       "      <th>0</th>\n",
       "      <td>Yercaud</td>\n",
       "      <td>20.879744</td>\n",
       "      <td>82.002744</td>\n",
       "      <td>6.502985</td>\n",
       "      <td>202.935536</td>\n",
       "      <td>rice</td>\n",
       "      <td>210</td>\n",
       "      <td>30-Apr-11</td>\n",
       "      <td>28</td>\n",
       "    </tr>\n",
       "    <tr>\n",
       "      <th>1</th>\n",
       "      <td>Vriddhachalam</td>\n",
       "      <td>21.770462</td>\n",
       "      <td>80.319644</td>\n",
       "      <td>7.038096</td>\n",
       "      <td>226.655537</td>\n",
       "      <td>rice</td>\n",
       "      <td>45</td>\n",
       "      <td>01-May-11</td>\n",
       "      <td>28</td>\n",
       "    </tr>\n",
       "    <tr>\n",
       "      <th>2</th>\n",
       "      <td>Virugambakkam</td>\n",
       "      <td>23.004459</td>\n",
       "      <td>82.320763</td>\n",
       "      <td>7.840207</td>\n",
       "      <td>263.964248</td>\n",
       "      <td>rice</td>\n",
       "      <td>70</td>\n",
       "      <td>02-May-11</td>\n",
       "      <td>28</td>\n",
       "    </tr>\n",
       "    <tr>\n",
       "      <th>3</th>\n",
       "      <td>Virudhunagar</td>\n",
       "      <td>26.491096</td>\n",
       "      <td>80.158363</td>\n",
       "      <td>6.980401</td>\n",
       "      <td>242.864034</td>\n",
       "      <td>rice</td>\n",
       "      <td>18</td>\n",
       "      <td>03-May-11</td>\n",
       "      <td>28</td>\n",
       "    </tr>\n",
       "    <tr>\n",
       "      <th>4</th>\n",
       "      <td>Viralimalai</td>\n",
       "      <td>20.130175</td>\n",
       "      <td>81.604873</td>\n",
       "      <td>7.628473</td>\n",
       "      <td>262.717340</td>\n",
       "      <td>rice</td>\n",
       "      <td>37</td>\n",
       "      <td>04-May-11</td>\n",
       "      <td>28</td>\n",
       "    </tr>\n",
       "  </tbody>\n",
       "</table>\n",
       "</div>"
      ],
      "text/plain": [
       "        Location  temperature   humidity        ph    rainfall label  price  \\\n",
       "0        Yercaud    20.879744  82.002744  6.502985  202.935536  rice    210   \n",
       "1  Vriddhachalam    21.770462  80.319644  7.038096  226.655537  rice     45   \n",
       "2  Virugambakkam    23.004459  82.320763  7.840207  263.964248  rice     70   \n",
       "3   Virudhunagar    26.491096  80.158363  6.980401  242.864034  rice     18   \n",
       "4    Viralimalai    20.130175  81.604873  7.628473  262.717340  rice     37   \n",
       "\n",
       "  Price_Date  class  \n",
       "0  30-Apr-11     28  \n",
       "1  01-May-11     28  \n",
       "2  02-May-11     28  \n",
       "3  03-May-11     28  \n",
       "4  04-May-11     28  "
      ]
     },
     "execution_count": 12,
     "metadata": {},
     "output_type": "execute_result"
    }
   ],
   "source": [
    "dataset['class'] = labelencoder.fit_transform(dataset['label'])\n",
    "dataset.head(5)"
   ]
  },
  {
   "cell_type": "code",
   "execution_count": 13,
   "id": "396d1480",
   "metadata": {},
   "outputs": [
    {
     "data": {
      "image/png": "[encoded data removed]",
      "text/plain": [
       "<Figure size 432x288 with 2 Axes>"
      ]
     },
     "metadata": {
      "needs_background": "light"
     },
     "output_type": "display_data"
    }
   ],
   "source": [
    "dataset.corr()\n",
    "sns.heatmap(dataset.corr(), annot = True)\n",
    "plt.show()"
   ]
  },
  {
   "cell_type": "code",
   "execution_count": 14,
   "id": "900a916c",
   "metadata": {},
   "outputs": [],
   "source": [
    "X = dataset.iloc[:, [1,2,3,4]].values\n",
    "Y = dataset.iloc[:, [5]].values"
   ]
  },
  {
   "cell_type": "code",
   "execution_count": 15,
   "id": "c5a8a239",
   "metadata": {},
   "outputs": [],
   "source": [
    "from sklearn.model_selection import train_test_split\n",
    "X_train, X_test, Y_train, Y_test = train_test_split(X, Y, test_size = 0.20, random_state = 42 )"
   ]
  },
  {
   "cell_type": "code",
   "execution_count": 16,
   "id": "d7ed82e0",
   "metadata": {},
   "outputs": [
    {
     "name": "stdout",
     "output_type": "stream",
     "text": [
      "X_train shape: (2480, 4)\n",
      "X_test shape: (620, 4)\n",
      "Y_train shape: (2480, 1)\n",
      "Y_test shape: (620, 1)\n"
     ]
    }
   ],
   "source": [
    "# Checking dimensions\n",
    "print(\"X_train shape:\", X_train.shape)\n",
    "print(\"X_test shape:\", X_test.shape)\n",
    "print(\"Y_train shape:\", Y_train.shape)\n",
    "print(\"Y_test shape:\", Y_test.shape)"
   ]
  },
  {
   "cell_type": "code",
   "execution_count": 17,
   "id": "8ba6d3bf",
   "metadata": {},
   "outputs": [
    {
     "name": "stdout",
     "output_type": "stream",
     "text": [
      "[[ 17.19628279  13.68862614   5.97052042  53.8727743 ]\n",
      " [ 31.32720734  54.17967763   6.62167846 144.8018325 ]\n",
      " [ 30.01821337  50.0983181    5.67603258  96.08745082]\n",
      " ...\n",
      " [ 17.92114547  13.04534931   6.43169009  54.56423739]\n",
      " [ 30.85454844  70.0216622    5.42808436 219.745306  ]\n",
      " [ 26.36629861  52.25738495   7.45646037 177.3176161 ]]\n"
     ]
    }
   ],
   "source": [
    "print(X_train)"
   ]
  },
  {
   "cell_type": "markdown",
   "id": "936eb669",
   "metadata": {},
   "source": [
    "# support vector classifier"
   ]
  },
  {
   "cell_type": "code",
   "execution_count": 18,
   "id": "2ea053f9",
   "metadata": {},
   "outputs": [
    {
     "data": {
      "text/plain": [
       "SVC(kernel='linear', random_state=42)"
      ]
     },
     "execution_count": 18,
     "metadata": {},
     "output_type": "execute_result"
    }
   ],
   "source": [
    "from sklearn.svm import SVC\n",
    "svc = SVC(kernel = 'linear', random_state = 42)\n",
    "svc.fit(X_train, Y_train)"
   ]
  },
  {
   "cell_type": "markdown",
   "id": "f805d775",
   "metadata": {},
   "source": [
    "# Naive bayes"
   ]
  },
  {
   "cell_type": "code",
   "execution_count": 19,
   "id": "b4a421cc",
   "metadata": {},
   "outputs": [
    {
     "data": {
      "text/plain": [
       "GaussianNB()"
      ]
     },
     "execution_count": 19,
     "metadata": {},
     "output_type": "execute_result"
    }
   ],
   "source": [
    "from sklearn.naive_bayes import GaussianNB\n",
    "nb=GaussianNB()\n",
    "nb.fit(X_train,Y_train)"
   ]
  },
  {
   "cell_type": "markdown",
   "id": "97dea093",
   "metadata": {},
   "source": [
    "# KneighborsClassifier"
   ]
  },
  {
   "cell_type": "code",
   "execution_count": 20,
   "id": "52c92c95",
   "metadata": {},
   "outputs": [
    {
     "data": {
      "text/plain": [
       "KNeighborsClassifier()"
      ]
     },
     "execution_count": 20,
     "metadata": {},
     "output_type": "execute_result"
    }
   ],
   "source": [
    "from sklearn.neighbors import KNeighborsClassifier\n",
    "knn=KNeighborsClassifier()\n",
    "knn.fit(X_train,Y_train)"
   ]
  },
  {
   "cell_type": "code",
   "execution_count": 21,
   "id": "4945975f",
   "metadata": {},
   "outputs": [],
   "source": [
    "Y_pred_svc = svc.predict(X_test)\n",
    "Y_pred_nb = nb.predict(X_test)\n",
    "Y_pred_knn = knn.predict(X_test)\n"
   ]
  },
  {
   "cell_type": "markdown",
   "id": "087a459f",
   "metadata": {},
   "source": [
    "# Model Evaluation"
   ]
  },
  {
   "cell_type": "code",
   "execution_count": 22,
   "id": "3ccaf636",
   "metadata": {},
   "outputs": [],
   "source": [
    "accuracy_svc = accuracy_score(Y_test, Y_pred_svc)\n",
    "accuracy_nb = accuracy_score(Y_test, Y_pred_nb)\n",
    "accuracy_knn = accuracy_score(Y_test, Y_pred_knn)"
   ]
  },
  {
   "cell_type": "code",
   "execution_count": 23,
   "id": "12bfef46",
   "metadata": {},
   "outputs": [
    {
     "name": "stdout",
     "output_type": "stream",
     "text": [
      "Support Vector Classifier: 86.45161290322581\n",
      "Naive bayes: 93.87096774193549\n",
      "KNN: 85.3225806451613\n"
     ]
    }
   ],
   "source": [
    "print(\"Support Vector Classifier: \" + str(accuracy_svc * 100))\n",
    "print(\"Naive bayes: \" + str(accuracy_nb * 100))\n",
    "print(\"KNN: \" + str(accuracy_knn * 100))"
   ]
  },
  {
   "cell_type": "code",
   "execution_count": 24,
   "id": "4611357a",
   "metadata": {},
   "outputs": [],
   "source": [
    "c=accuracy_svc * 100\n",
    "d=accuracy_nb * 100\n",
    "e=accuracy_knn * 100"
   ]
  },
  {
   "cell_type": "code",
   "execution_count": 25,
   "id": "94d48a18",
   "metadata": {},
   "outputs": [
    {
     "name": "stdout",
     "output_type": "stream",
     "text": [
      "The accuracy score achieved using Support Vector Machine is: 86.45161290322581 %\n",
      "The accuracy score achieved using Naive bayes is: 93.87096774193549 %\n",
      "The accuracy score achieved using KNN is: 85.3225806451613 %\n"
     ]
    }
   ],
   "source": [
    "scores = [c,d,e]\n",
    "algorithms = [\"Support Vector Machine\",\"Naive bayes\",\"KNN\"]    \n",
    "\n",
    "for i in range(len(algorithms)):\n",
    "    print(\"The accuracy score achieved using \"+algorithms[i]+\" is: \"+str(scores[i])+\" %\")"
   ]
  },
  {
   "cell_type": "code",
   "execution_count": 26,
   "id": "12140cba",
   "metadata": {},
   "outputs": [
    {
     "data": {
      "text/plain": [
       "<AxesSubplot:xlabel='Algorithms', ylabel='Accuracy score'>"
      ]
     },
     "execution_count": 26,
     "metadata": {},
     "output_type": "execute_result"
    },
    {
     "data": {
      "image/png": "[encoded data removed]",
      "text/plain": [
       "<Figure size 576x576 with 1 Axes>"
      ]
     },
     "metadata": {},
     "output_type": "display_data"
    }
   ],
   "source": [
    "sns.set(rc={'figure.figsize':(8,8)})\n",
    "plt.xlabel(\"Algorithms\")\n",
    "plt.ylabel(\"Accuracy score\")\n",
    "sns.barplot(algorithms,scores)"
   ]
  },
  {
   "cell_type": "code",
   "execution_count": 27,
   "id": "d4ddd8eb",
   "metadata": {},
   "outputs": [
    {
     "name": "stdout",
     "output_type": "stream",
     "text": [
      "Model successfully created...!\n"
     ]
    }
   ],
   "source": [
    "import joblib \n",
    "joblib.dump(nb, r'Models\\nb_model1.pkl') \n",
    "nb_from_joblib = joblib.load(r'Models\\nb_model1.pkl')  \n",
    "print(\"Model successfully created...!\")"
   ]
  },
  {
   "cell_type": "markdown",
   "id": "ad2d06f7",
   "metadata": {},
   "source": [
    "# Confusion Matrix"
   ]
  },
  {
   "cell_type": "code",
   "execution_count": 28,
   "id": "00bc3e97",
   "metadata": {},
   "outputs": [],
   "source": [
    "from sklearn.metrics import confusion_matrix\n",
    "cm = confusion_matrix(Y_test, Y_pred_nb)"
   ]
  },
  {
   "cell_type": "code",
   "execution_count": 29,
   "id": "fd2285b8",
   "metadata": {},
   "outputs": [
    {
     "data": {
      "text/plain": [
       "<AxesSubplot:>"
      ]
     },
     "execution_count": 29,
     "metadata": {},
     "output_type": "execute_result"
    },
    {
     "data": {
      "image/png": "[encoded data removed]",
      "text/plain": [
       "<Figure size 720x720 with 2 Axes>"
      ]
     },
     "metadata": {},
     "output_type": "display_data"
    }
   ],
   "source": [
    "plt.figure(figsize = (10,10))\n",
    "sns.heatmap(pd.DataFrame(cm), annot=True)"
   ]
  },
  {
   "cell_type": "code",
   "execution_count": 30,
   "id": "a5832760",
   "metadata": {},
   "outputs": [],
   "source": [
    "X1 = dataset.iloc[:, [1,2,3,4]].values\n",
    "Y1 = dataset.iloc[:, [6]].values"
   ]
  },
  {
   "cell_type": "code",
   "execution_count": 31,
   "id": "852c146d",
   "metadata": {},
   "outputs": [],
   "source": [
    "from sklearn.model_selection import train_test_split\n",
    "X_train1, X_test1, Y_train1, Y_test1 = train_test_split(X1, Y1, test_size = 0.20, random_state = 42 )"
   ]
  },
  {
   "cell_type": "code",
   "execution_count": 40,
   "id": "e106abde",
   "metadata": {},
   "outputs": [
    {
     "data": {
      "text/plain": [
       "KNeighborsClassifier()"
      ]
     },
     "execution_count": 40,
     "metadata": {},
     "output_type": "execute_result"
    }
   ],
   "source": [
    "from sklearn.neighbors import KNeighborsClassifier\n",
    "knn=KNeighborsClassifier()\n",
    "knn.fit(X_train1,Y_train1)"
   ]
  },
  {
   "cell_type": "code",
   "execution_count": 41,
   "id": "aaaccdf9",
   "metadata": {},
   "outputs": [
    {
     "name": "stdout",
     "output_type": "stream",
     "text": [
      "Model successfully created...!\n"
     ]
    }
   ],
   "source": [
    "import joblib \n",
    "joblib.dump(knn, r'Models\\nb_model2.pkl') \n",
    "ranfor_from_joblib = joblib.load(r'Models\\nb_model2.pkl')  \n",
    "print(\"Model successfully created...!\")"
   ]
  },
  {
   "cell_type": "code",
   "execution_count": 42,
   "id": "553aa206",
   "metadata": {},
   "outputs": [
    {
     "name": "stdout",
     "output_type": "stream",
     "text": [
      "enter Location= Yercaud\n",
      "enter Date = 12/12/2022\n",
      "enter Temperature level  = 28\n",
      "enter Humidity value = 120\n",
      "enter pH level = 5.5\n",
      "enter rainfall level = 250\n"
     ]
    }
   ],
   "source": [
    "Location=str(input(\"enter Location= \"))\n",
    "date=str(input(\"enter Date = \"))\n",
    "Temp=float(input(\"enter Temperature level  = \"))\n",
    "Humidity=float(input(\"enter Humidity value = \"))\n",
    "pH=float(input(\"enter pH level = \"))\n",
    "Rainfall=float(input(\"enter rainfall level = \"))\n"
   ]
  },
  {
   "cell_type": "code",
   "execution_count": 43,
   "id": "88c41094",
   "metadata": {},
   "outputs": [],
   "source": [
    "test_data=[Temp,Humidity,pH,Rainfall]"
   ]
  },
  {
   "cell_type": "code",
   "execution_count": 48,
   "id": "c6a2f1bf",
   "metadata": {},
   "outputs": [],
   "source": [
    "# Load the model from the file \n",
    "ranfor_from_joblib = joblib.load(r'Models\\nb_model1.pkl')  \n",
    "  \n",
    "# Use the loaded model to make predictions \n",
    "prediction_crop=ranfor_from_joblib.predict([test_data])"
   ]
  },
  {
   "cell_type": "code",
   "execution_count": 49,
   "id": "b23495c7",
   "metadata": {},
   "outputs": [
    {
     "name": "stdout",
     "output_type": "stream",
     "text": [
      "['Pigeon Peas']\n"
     ]
    }
   ],
   "source": [
    "print(prediction_crop)"
   ]
  },
  {
   "cell_type": "code",
   "execution_count": 50,
   "id": "3a5b981e",
   "metadata": {},
   "outputs": [],
   "source": [
    "# Load the model from the file \n",
    "ranfor_from_joblib = joblib.load(r'Models\\nb_model2.pkl')  \n",
    "  \n",
    "# Use the loaded model to make predictions \n",
    "prediction_price=ranfor_from_joblib.predict([test_data])"
   ]
  },
  {
   "cell_type": "code",
   "execution_count": 51,
   "id": "a8395f37",
   "metadata": {},
   "outputs": [
    {
     "name": "stdout",
     "output_type": "stream",
     "text": [
      "[10]\n"
     ]
    }
   ],
   "source": [
    "print(prediction_price)"
   ]
  },
  {
   "cell_type": "code",
   "execution_count": null,
   "id": "7db855fe",
   "metadata": {},
   "outputs": [],
   "source": []
  }
 ],
 "metadata": {
  "kernelspec": {
   "display_name": "Python 3 (ipykernel)",
   "language": "python",
   "name": "python3"
  },
  "language_info": {
   "codemirror_mode": {
    "name": "ipython",
    "version": 3
   },
   "file_extension": ".py",
   "mimetype": "text/x-python",
   "name": "python",
   "nbconvert_exporter": "python",
   "pygments_lexer": "ipython3",
   "version": "3.9.7"
  }
 },
 "nbformat": 4,
 "nbformat_minor": 5
}
